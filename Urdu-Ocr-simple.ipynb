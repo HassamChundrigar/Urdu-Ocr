{
 "cells": [
  {
   "cell_type": "code",
   "execution_count": 9,
   "metadata": {},
   "outputs": [],
   "source": [
    "import tensorflow as tf\n",
    "import cv2 as cv\n",
    "import utils"
   ]
  },
  {
   "cell_type": "code",
   "execution_count": 10,
   "metadata": {},
   "outputs": [],
   "source": [
    "# path = input('Input Image Path: ')\n",
    "path = \"test.jpg\"\n",
    "image = cv.imread(path)"
   ]
  },
  {
   "cell_type": "code",
   "execution_count": 11,
   "metadata": {},
   "outputs": [
    {
     "name": "stdout",
     "output_type": "stream",
     "text": [
      "INFO:tensorflow:Restoring parameters from model_pb/variables/variables\n"
     ]
    }
   ],
   "source": [
    "# Loading Model\n",
    "sess = tf.Session()\n",
    "model = tf.saved_model.loader.load(sess ,tags = ['serve'], export_dir = 'model_pb')"
   ]
  },
  {
   "cell_type": "code",
   "execution_count": 12,
   "metadata": {},
   "outputs": [],
   "source": [
    "# Get Predicted Text\n",
    "resized_image = tf.image.resize_image_with_pad(image, 64, 1024).eval(session = sess)\n",
    "img_gray = cv.cvtColor(resized_image, cv.COLOR_RGB2GRAY).reshape(64,1024,1)\n",
    "\n",
    "output = sess.run('Dense-Decoded/SparseToDense:0', \n",
    "         feed_dict = {\n",
    "             'Deep-CNN/Placeholder:0':img_gray\n",
    "         })\n",
    "output_text = utils.dense_to_text(output[0])"
   ]
  },
  {
   "cell_type": "code",
   "execution_count": 13,
   "metadata": {},
   "outputs": [
    {
     "data": {
      "text/plain": [
       "'’’میرے ذہن میں ایک دھماکے دار آئیڈا آیا ہے۔‘‘ میں نے مہری سے چھلانگ لگا '"
      ]
     },
     "execution_count": 13,
     "metadata": {},
     "output_type": "execute_result"
    }
   ],
   "source": [
    "output_text\n",
    "# cv.imshow('image',image)\n",
    "# cv.waitKey(0)\n",
    "# cv.destroyAllWindows()"
   ]
  },
  {
   "cell_type": "code",
   "execution_count": null,
   "metadata": {},
   "outputs": [],
   "source": []
  }
 ],
 "metadata": {
  "kernelspec": {
   "display_name": "Python 3",
   "language": "python",
   "name": "python3"
  },
  "language_info": {
   "codemirror_mode": {
    "name": "ipython",
    "version": 3
   },
   "file_extension": ".py",
   "mimetype": "text/x-python",
   "name": "python",
   "nbconvert_exporter": "python",
   "pygments_lexer": "ipython3",
   "version": "3.6.9"
  }
 },
 "nbformat": 4,
 "nbformat_minor": 4
}
